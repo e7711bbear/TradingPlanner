{
 "cells": [
  {
   "metadata": {},
   "cell_type": "markdown",
   "source": "# Welcome to the Challenge Trading Planner",
   "id": "f9bd132d189c0593"
  },
  {
   "metadata": {},
   "cell_type": "markdown",
   "source": "We are first going to plan the month using a compounding calculator",
   "id": "50ea2f6a83008e4f"
  },
  {
   "metadata": {
    "ExecuteTime": {
     "end_time": "2025-08-02T11:48:19.894921Z",
     "start_time": "2025-08-02T11:48:19.892131Z"
    }
   },
   "cell_type": "code",
   "source": [
    "# ---- Step 1: Get user input with defaults ----\n",
    "starting_capital = 10\n",
    "rate = 20  # in percent\n",
    "periods = 30\n",
    "\n",
    "print(f\"Starting Capital: {starting_capital}\")\n",
    "print(f\"Period count: {periods}\")\n",
    "print(f\"Period gain rate: {rate}\")"
   ],
   "id": "82ba2e44a837ee2f",
   "outputs": [
    {
     "name": "stdout",
     "output_type": "stream",
     "text": [
      "Starting Capital: 10\n",
      "Period count: 30\n",
      "Period gain rate: 20\n"
     ]
    }
   ],
   "execution_count": 12
  },
  {
   "metadata": {
    "ExecuteTime": {
     "end_time": "2025-08-02T11:48:19.922354Z",
     "start_time": "2025-08-02T11:48:19.915653Z"
    }
   },
   "cell_type": "code",
   "source": [
    "import pandas as pd\n",
    "\n",
    "# ---- Step 2: Calculate compounded values ----\n",
    "data = []\n",
    "ultimate_gain = 0\n",
    "for period in range(1, periods + 1):\n",
    "    value = starting_capital * ((1 + rate / 100) ** period)\n",
    "    ultimate_gain = value\n",
    "    data.append({\"Period\": period, \"Value\": round(value, 2)})\n",
    "\n",
    "\n",
    "# ---- Step 3: Create DataFrame and print ----\n",
    "df = pd.DataFrame(data)\n",
    "\n",
    "# Show all rows\n",
    "pd.set_option('display.max_rows', None)\n",
    "\n",
    "# Show all columns\n",
    "pd.set_option('display.max_columns', None)\n",
    "\n",
    "# Optional: prevent column width truncation\n",
    "pd.set_option('display.max_colwidth', None)\n",
    "\n",
    "# print\n",
    "df\n"
   ],
   "id": "bf078be9dbb87acb",
   "outputs": [
    {
     "data": {
      "text/plain": [
       "    Period    Value\n",
       "0        1    12.00\n",
       "1        2    14.40\n",
       "2        3    17.28\n",
       "3        4    20.74\n",
       "4        5    24.88\n",
       "5        6    29.86\n",
       "6        7    35.83\n",
       "7        8    43.00\n",
       "8        9    51.60\n",
       "9       10    61.92\n",
       "10      11    74.30\n",
       "11      12    89.16\n",
       "12      13   106.99\n",
       "13      14   128.39\n",
       "14      15   154.07\n",
       "15      16   184.88\n",
       "16      17   221.86\n",
       "17      18   266.23\n",
       "18      19   319.48\n",
       "19      20   383.38\n",
       "20      21   460.05\n",
       "21      22   552.06\n",
       "22      23   662.47\n",
       "23      24   794.97\n",
       "24      25   953.96\n",
       "25      26  1144.75\n",
       "26      27  1373.71\n",
       "27      28  1648.45\n",
       "28      29  1978.14\n",
       "29      30  2373.76"
      ],
      "text/html": [
       "<div>\n",
       "<style scoped>\n",
       "    .dataframe tbody tr th:only-of-type {\n",
       "        vertical-align: middle;\n",
       "    }\n",
       "\n",
       "    .dataframe tbody tr th {\n",
       "        vertical-align: top;\n",
       "    }\n",
       "\n",
       "    .dataframe thead th {\n",
       "        text-align: right;\n",
       "    }\n",
       "</style>\n",
       "<table border=\"1\" class=\"dataframe\">\n",
       "  <thead>\n",
       "    <tr style=\"text-align: right;\">\n",
       "      <th></th>\n",
       "      <th>Period</th>\n",
       "      <th>Value</th>\n",
       "    </tr>\n",
       "  </thead>\n",
       "  <tbody>\n",
       "    <tr>\n",
       "      <th>0</th>\n",
       "      <td>1</td>\n",
       "      <td>12.00</td>\n",
       "    </tr>\n",
       "    <tr>\n",
       "      <th>1</th>\n",
       "      <td>2</td>\n",
       "      <td>14.40</td>\n",
       "    </tr>\n",
       "    <tr>\n",
       "      <th>2</th>\n",
       "      <td>3</td>\n",
       "      <td>17.28</td>\n",
       "    </tr>\n",
       "    <tr>\n",
       "      <th>3</th>\n",
       "      <td>4</td>\n",
       "      <td>20.74</td>\n",
       "    </tr>\n",
       "    <tr>\n",
       "      <th>4</th>\n",
       "      <td>5</td>\n",
       "      <td>24.88</td>\n",
       "    </tr>\n",
       "    <tr>\n",
       "      <th>5</th>\n",
       "      <td>6</td>\n",
       "      <td>29.86</td>\n",
       "    </tr>\n",
       "    <tr>\n",
       "      <th>6</th>\n",
       "      <td>7</td>\n",
       "      <td>35.83</td>\n",
       "    </tr>\n",
       "    <tr>\n",
       "      <th>7</th>\n",
       "      <td>8</td>\n",
       "      <td>43.00</td>\n",
       "    </tr>\n",
       "    <tr>\n",
       "      <th>8</th>\n",
       "      <td>9</td>\n",
       "      <td>51.60</td>\n",
       "    </tr>\n",
       "    <tr>\n",
       "      <th>9</th>\n",
       "      <td>10</td>\n",
       "      <td>61.92</td>\n",
       "    </tr>\n",
       "    <tr>\n",
       "      <th>10</th>\n",
       "      <td>11</td>\n",
       "      <td>74.30</td>\n",
       "    </tr>\n",
       "    <tr>\n",
       "      <th>11</th>\n",
       "      <td>12</td>\n",
       "      <td>89.16</td>\n",
       "    </tr>\n",
       "    <tr>\n",
       "      <th>12</th>\n",
       "      <td>13</td>\n",
       "      <td>106.99</td>\n",
       "    </tr>\n",
       "    <tr>\n",
       "      <th>13</th>\n",
       "      <td>14</td>\n",
       "      <td>128.39</td>\n",
       "    </tr>\n",
       "    <tr>\n",
       "      <th>14</th>\n",
       "      <td>15</td>\n",
       "      <td>154.07</td>\n",
       "    </tr>\n",
       "    <tr>\n",
       "      <th>15</th>\n",
       "      <td>16</td>\n",
       "      <td>184.88</td>\n",
       "    </tr>\n",
       "    <tr>\n",
       "      <th>16</th>\n",
       "      <td>17</td>\n",
       "      <td>221.86</td>\n",
       "    </tr>\n",
       "    <tr>\n",
       "      <th>17</th>\n",
       "      <td>18</td>\n",
       "      <td>266.23</td>\n",
       "    </tr>\n",
       "    <tr>\n",
       "      <th>18</th>\n",
       "      <td>19</td>\n",
       "      <td>319.48</td>\n",
       "    </tr>\n",
       "    <tr>\n",
       "      <th>19</th>\n",
       "      <td>20</td>\n",
       "      <td>383.38</td>\n",
       "    </tr>\n",
       "    <tr>\n",
       "      <th>20</th>\n",
       "      <td>21</td>\n",
       "      <td>460.05</td>\n",
       "    </tr>\n",
       "    <tr>\n",
       "      <th>21</th>\n",
       "      <td>22</td>\n",
       "      <td>552.06</td>\n",
       "    </tr>\n",
       "    <tr>\n",
       "      <th>22</th>\n",
       "      <td>23</td>\n",
       "      <td>662.47</td>\n",
       "    </tr>\n",
       "    <tr>\n",
       "      <th>23</th>\n",
       "      <td>24</td>\n",
       "      <td>794.97</td>\n",
       "    </tr>\n",
       "    <tr>\n",
       "      <th>24</th>\n",
       "      <td>25</td>\n",
       "      <td>953.96</td>\n",
       "    </tr>\n",
       "    <tr>\n",
       "      <th>25</th>\n",
       "      <td>26</td>\n",
       "      <td>1144.75</td>\n",
       "    </tr>\n",
       "    <tr>\n",
       "      <th>26</th>\n",
       "      <td>27</td>\n",
       "      <td>1373.71</td>\n",
       "    </tr>\n",
       "    <tr>\n",
       "      <th>27</th>\n",
       "      <td>28</td>\n",
       "      <td>1648.45</td>\n",
       "    </tr>\n",
       "    <tr>\n",
       "      <th>28</th>\n",
       "      <td>29</td>\n",
       "      <td>1978.14</td>\n",
       "    </tr>\n",
       "    <tr>\n",
       "      <th>29</th>\n",
       "      <td>30</td>\n",
       "      <td>2373.76</td>\n",
       "    </tr>\n",
       "  </tbody>\n",
       "</table>\n",
       "</div>"
      ]
     },
     "execution_count": 13,
     "metadata": {},
     "output_type": "execute_result"
    }
   ],
   "execution_count": 13
  },
  {
   "metadata": {
    "ExecuteTime": {
     "end_time": "2025-08-02T11:48:19.963432Z",
     "start_time": "2025-08-02T11:48:19.960772Z"
    }
   },
   "cell_type": "code",
   "source": [
    "ultimate_gain = round(ultimate_gain, 2)\n",
    "ultimate_growth = round(ultimate_gain /starting_capital * 100, 2)\n",
    "print(f\"Ultimate Gain Target: {ultimate_gain} currency -> {ultimate_growth} %\")"
   ],
   "id": "2e3a7d44d5c8c65e",
   "outputs": [
    {
     "name": "stdout",
     "output_type": "stream",
     "text": [
      "Ultimate Gain Target: 2373.76 currency -> 23737.6 %\n"
     ]
    }
   ],
   "execution_count": 14
  },
  {
   "metadata": {},
   "cell_type": "markdown",
   "source": "## --- Risk parameters ---",
   "id": "20dd9a63bc4b164f"
  },
  {
   "metadata": {
    "ExecuteTime": {
     "end_time": "2025-08-02T11:48:20.023055Z",
     "start_time": "2025-08-02T11:48:20.020932Z"
    }
   },
   "cell_type": "code",
   "source": [
    "rr = 4\n",
    "max_margin_account_rate = 10 # max % of account put into a position at any given time\n",
    "max_account_rate_at_risk = 1 # max % of account losable per trade\n",
    "print(f\"RR: {rr}\")\n",
    "print(f\"Max Margin per Trade: {max_margin_account_rate} % of account\")\n",
    "print(f\"Max Losable: {max_account_rate_at_risk}% of account\")\n",
    "print(\"\")\n",
    "\n"
   ],
   "id": "1b74ca5d9e42d0c7",
   "outputs": [
    {
     "name": "stdout",
     "output_type": "stream",
     "text": [
      "RR: 4\n",
      "Max Margin per Trade: 10 % of account\n",
      "Max Losable: 1% of account\n",
      "\n"
     ]
    }
   ],
   "execution_count": 15
  },
  {
   "metadata": {},
   "cell_type": "markdown",
   "source": "## --- Position Parameters ---",
   "id": "7640b39f101726b4"
  },
  {
   "metadata": {
    "ExecuteTime": {
     "end_time": "2025-08-02T11:48:20.066124Z",
     "start_time": "2025-08-02T11:48:20.063824Z"
    }
   },
   "cell_type": "code",
   "source": [
    "leverage = 300 # in x\n",
    "position_value = 100 # in currency\n",
    "rounding = 6\n",
    "margin = round(position_value / leverage, rounding)\n",
    "margin_v_account = round(margin / starting_capital * 100, rounding)\n",
    "print(f\"leverage: {leverage}x\")\n",
    "print(f\"Position Value: {position_value} currency\")\n",
    "margin_grade = \"✅\" if margin_v_account <= max_margin_account_rate else \"❌\"\n",
    "print(f\"Margin: {margin} currency -> {margin_v_account}% of Account {margin_grade}\")\n",
    "print(\"\")\n"
   ],
   "id": "da43d6c7a0b1c7c4",
   "outputs": [
    {
     "name": "stdout",
     "output_type": "stream",
     "text": [
      "leverage: 300x\n",
      "Position Value: 100 currency\n",
      "Margin: 0.333333 currency -> 3.33333% of Account ✅\n",
      "\n"
     ]
    }
   ],
   "execution_count": 16
  },
  {
   "metadata": {},
   "cell_type": "markdown",
   "source": "## --- Position Planning Long ---",
   "id": "6b031b014c5beabe"
  },
  {
   "metadata": {
    "ExecuteTime": {
     "end_time": "2025-08-02T11:48:20.092472Z",
     "start_time": "2025-08-02T11:48:20.088232Z"
    }
   },
   "cell_type": "code",
   "source": [
    "long_entry = 162 # in currency\n",
    "long_exit = 163 # in currency\n",
    "long_sl = 159 # in currency\n",
    "long_position_size = round(position_value / long_entry, rounding) # number of asset in the trade\n",
    "\n",
    "long_at_risk = round(long_position_size * (long_entry - long_sl) / leverage, rounding)\n",
    "long_to_win = round(long_position_size * (long_exit - long_entry) / leverage, rounding)\n",
    "long_win_pa_percentage = round((long_exit - long_entry) / long_entry * 100, 3)\n",
    "long_loss_pa_percentage = round((long_sl - long_entry) / long_entry * 100, 3)\n",
    "long_rr = round(long_to_win/long_at_risk, 2)\n",
    "\n",
    "long_at_risk_v_account = round(long_at_risk/starting_capital *100, rounding)\n",
    "long_to_win_v_account = round(long_to_win/starting_capital *100, rounding)\n",
    "\n",
    "print(f\"Entry: {long_entry}\")\n",
    "print(f\"Exit: {long_exit} -> +{long_win_pa_percentage}% PA\")\n",
    "print(f\"SL: {long_sl} -> {long_loss_pa_percentage}% PA\")\n",
    "long_rr_grade_pass = True if long_rr >= rr else False\n",
    "long_rr_grade = \"✅\" if long_rr_grade_pass else \"❌\"\n",
    "print(f\"RR: {long_rr} {long_rr_grade}\")\n",
    "if long_rr_grade_pass is False:\n",
    "    long_new_exit = 165#FIXME: here\n",
    "    print(f\"==> Change exit: {long_new_exit}\")\n",
    "    print(\"== OR ==\")\n",
    "    long_new_sl = 161.5\n",
    "    print(f\"==> Change SL:{long_new_sl}\")\n",
    "print(\"\")\n",
    "\n",
    "print(\"---\")\n",
    "print(f\"Capital in position: {margin} currency\")\n",
    "print(f\"Position size: {long_position_size} assets\")\n",
    "long_at_risk_grade = \"✅\" if long_at_risk_v_account <= max_account_rate_at_risk else \"❌\"\n",
    "print(f\"At risk: {long_at_risk} currency -> {long_at_risk_v_account}% of account {long_at_risk_grade}\")\n",
    "print(f\"To win: {long_to_win} currency -> {long_to_win_v_account}% of account\")\n"
   ],
   "id": "804ea937e3dc818",
   "outputs": [
    {
     "name": "stdout",
     "output_type": "stream",
     "text": [
      "Entry: 162\n",
      "Exit: 163 -> +0.617% PA\n",
      "SL: 159 -> -1.852% PA\n",
      "RR: 0.33 ❌\n",
      "==> Change exit: 165\n",
      "== OR ==\n",
      "==> Change SL:161.5\n",
      "\n",
      "---\n",
      "Capital in position: 0.333333 currency\n",
      "Position size: 0.617284 assets\n",
      "At risk: 0.006173 currency -> 0.06173% of account ✅\n",
      "To win: 0.002058 currency -> 0.02058% of account\n"
     ]
    }
   ],
   "execution_count": 17
  },
  {
   "metadata": {},
   "cell_type": "markdown",
   "source": "## Potential Correction/Suggestions",
   "id": "6d4dffb276bd4282"
  },
  {
   "metadata": {
    "ExecuteTime": {
     "end_time": "2025-08-02T11:48:20.121066Z",
     "start_time": "2025-08-02T11:48:20.118631Z"
    }
   },
   "cell_type": "code",
   "source": [
    "if long_rr_grade_pass is False:\n",
    "    print(\"--- Found some misalignement. ---\")\n",
    "    print(\"=> Let's adjust for your compounding goals and risk parameters\")\n",
    "\n",
    "    if long_rr_grade_pass is False:\n",
    "        print(f\"RR goals (1:{rr}) is not met, here are suggestions\")\n",
    "        long_new_exit = (long_entry - long_sl) * rr + long_entry\n",
    "        print(f\"1/ Adjust your TP to {long_new_exit} (from {long_exit}) -> {long_new_exit - long_exit} delta\")\n",
    "        long_new_sl = long_entry - (long_entry - long_entry) / (rr-1)\n",
    "        print(f\"2/ Adjust your SL to {long_new_sl} (from {long_sl}) -> {long_new_sl - long_sl} delta\")\n",
    "else:\n",
    "    print(\"Nothing looks out of params\")\n"
   ],
   "id": "59a4a560b02af892",
   "outputs": [
    {
     "name": "stdout",
     "output_type": "stream",
     "text": [
      "--- Found some misalignement. ---\n",
      "=> Let's adjust for your compounding goals and risk parameters\n",
      "RR goals (1:4) is not met, here are suggestions\n",
      "1/ Adjust your TP to 174 (from 163) -> 11 delta\n",
      "2/ Adjust your SL to 162.0 (from 159) -> 3.0 delta\n"
     ]
    }
   ],
   "execution_count": 18
  },
  {
   "metadata": {},
   "cell_type": "markdown",
   "source": "## --- Position Planning Short ---",
   "id": "d39bd4edd66abff3"
  },
  {
   "metadata": {
    "ExecuteTime": {
     "end_time": "2025-08-02T11:48:20.145642Z",
     "start_time": "2025-08-02T11:48:20.144060Z"
    }
   },
   "cell_type": "code",
   "source": [
    "short_entry = 100 # in currency\n",
    "short_exit = 70 # in currency\n",
    "short_sl = 110 # in currency"
   ],
   "id": "160bb1c7d5cd4791",
   "outputs": [],
   "execution_count": 19
  }
 ],
 "metadata": {
  "kernelspec": {
   "display_name": "Python 3",
   "language": "python",
   "name": "python3"
  },
  "language_info": {
   "codemirror_mode": {
    "name": "ipython",
    "version": 2
   },
   "file_extension": ".py",
   "mimetype": "text/x-python",
   "name": "python",
   "nbconvert_exporter": "python",
   "pygments_lexer": "ipython2",
   "version": "2.7.6"
  }
 },
 "nbformat": 4,
 "nbformat_minor": 5
}
