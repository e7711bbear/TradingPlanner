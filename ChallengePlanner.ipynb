{
 "cells": [
  {
   "metadata": {},
   "cell_type": "markdown",
   "source": [
    "# Welcome to the Challenge Trading Planner\n",
    "This calculator is to helo traders who engage in tiny account trading challenges.\n",
    "\n",
    "For those who discover them, tiny account trading challenges are about practicing trading technics by using very small balances (<100 USD or equivalent) and grow them to multiple factors over the course of 2-4 weeks.\n",
    "\n",
    "Achieving this is tied to:\n",
    "- Good understanding of the charts to find good entries/exits/stop losses\n",
    "- Good management of risk.\n",
    "\n",
    "This calculator helps on the latter part."
   ],
   "id": "f9bd132d189c0593"
  },
  {
   "metadata": {},
   "cell_type": "markdown",
   "source": "## Projection Calculation",
   "id": "50ea2f6a83008e4f"
  },
  {
   "metadata": {
    "ExecuteTime": {
     "end_time": "2025-08-03T08:01:25.868515Z",
     "start_time": "2025-08-03T08:01:25.855582Z"
    }
   },
   "cell_type": "code",
   "source": [
    "# ---- Step 1: Get user input with defaults ----\n",
    "starting_capital = 10\n",
    "rate = 20  # in percent\n",
    "periods = 30\n",
    "\n",
    "print(f\"Starting Capital: {starting_capital}\")\n",
    "print(f\"Period count: {periods}\")\n",
    "print(f\"Period gain rate: {rate}\")"
   ],
   "id": "82ba2e44a837ee2f",
   "outputs": [
    {
     "name": "stdout",
     "output_type": "stream",
     "text": [
      "Starting Capital: 10\n",
      "Period count: 30\n",
      "Period gain rate: 20\n"
     ]
    }
   ],
   "execution_count": 85
  },
  {
   "metadata": {
    "ExecuteTime": {
     "end_time": "2025-08-03T08:01:25.927328Z",
     "start_time": "2025-08-03T08:01:25.904723Z"
    }
   },
   "cell_type": "code",
   "source": [
    "import pandas as pd\n",
    "\n",
    "# ---- Step 2: Calculate compounded values ----\n",
    "data = []\n",
    "ultimate_gain = 0\n",
    "previous_value = starting_capital\n",
    "for period in range(1, periods + 1):\n",
    "    value = starting_capital * ((1 + rate / 100) ** period)\n",
    "    delta = value - previous_value\n",
    "    previous_value = value\n",
    "    ultimate_gain = value # saving to get the last value\n",
    "    data.append({\"Period\": period, \"Value\": round(value, 2), \"Delta\": round(delta, 2)})\n",
    "\n",
    "\n",
    "# ---- Step 3: Create DataFrame and print ----\n",
    "df = pd.DataFrame(data)\n",
    "\n",
    "# Show all rows\n",
    "pd.set_option('display.max_rows', None)\n",
    "\n",
    "# Show all columns\n",
    "pd.set_option('display.max_columns', None)\n",
    "\n",
    "# Optional: prevent column width truncation\n",
    "pd.set_option('display.max_colwidth', None)\n",
    "\n",
    "# print\n",
    "df\n"
   ],
   "id": "bf078be9dbb87acb",
   "outputs": [
    {
     "data": {
      "text/plain": [
       "    Period    Value   Delta\n",
       "0        1    12.00    2.00\n",
       "1        2    14.40    2.40\n",
       "2        3    17.28    2.88\n",
       "3        4    20.74    3.46\n",
       "4        5    24.88    4.15\n",
       "5        6    29.86    4.98\n",
       "6        7    35.83    5.97\n",
       "7        8    43.00    7.17\n",
       "8        9    51.60    8.60\n",
       "9       10    61.92   10.32\n",
       "10      11    74.30   12.38\n",
       "11      12    89.16   14.86\n",
       "12      13   106.99   17.83\n",
       "13      14   128.39   21.40\n",
       "14      15   154.07   25.68\n",
       "15      16   184.88   30.81\n",
       "16      17   221.86   36.98\n",
       "17      18   266.23   44.37\n",
       "18      19   319.48   53.25\n",
       "19      20   383.38   63.90\n",
       "20      21   460.05   76.68\n",
       "21      22   552.06   92.01\n",
       "22      23   662.47  110.41\n",
       "23      24   794.97  132.49\n",
       "24      25   953.96  158.99\n",
       "25      26  1144.75  190.79\n",
       "26      27  1373.71  228.95\n",
       "27      28  1648.45  274.74\n",
       "28      29  1978.14  329.69\n",
       "29      30  2373.76  395.63"
      ],
      "text/html": [
       "<div>\n",
       "<style scoped>\n",
       "    .dataframe tbody tr th:only-of-type {\n",
       "        vertical-align: middle;\n",
       "    }\n",
       "\n",
       "    .dataframe tbody tr th {\n",
       "        vertical-align: top;\n",
       "    }\n",
       "\n",
       "    .dataframe thead th {\n",
       "        text-align: right;\n",
       "    }\n",
       "</style>\n",
       "<table border=\"1\" class=\"dataframe\">\n",
       "  <thead>\n",
       "    <tr style=\"text-align: right;\">\n",
       "      <th></th>\n",
       "      <th>Period</th>\n",
       "      <th>Value</th>\n",
       "      <th>Delta</th>\n",
       "    </tr>\n",
       "  </thead>\n",
       "  <tbody>\n",
       "    <tr>\n",
       "      <th>0</th>\n",
       "      <td>1</td>\n",
       "      <td>12.00</td>\n",
       "      <td>2.00</td>\n",
       "    </tr>\n",
       "    <tr>\n",
       "      <th>1</th>\n",
       "      <td>2</td>\n",
       "      <td>14.40</td>\n",
       "      <td>2.40</td>\n",
       "    </tr>\n",
       "    <tr>\n",
       "      <th>2</th>\n",
       "      <td>3</td>\n",
       "      <td>17.28</td>\n",
       "      <td>2.88</td>\n",
       "    </tr>\n",
       "    <tr>\n",
       "      <th>3</th>\n",
       "      <td>4</td>\n",
       "      <td>20.74</td>\n",
       "      <td>3.46</td>\n",
       "    </tr>\n",
       "    <tr>\n",
       "      <th>4</th>\n",
       "      <td>5</td>\n",
       "      <td>24.88</td>\n",
       "      <td>4.15</td>\n",
       "    </tr>\n",
       "    <tr>\n",
       "      <th>5</th>\n",
       "      <td>6</td>\n",
       "      <td>29.86</td>\n",
       "      <td>4.98</td>\n",
       "    </tr>\n",
       "    <tr>\n",
       "      <th>6</th>\n",
       "      <td>7</td>\n",
       "      <td>35.83</td>\n",
       "      <td>5.97</td>\n",
       "    </tr>\n",
       "    <tr>\n",
       "      <th>7</th>\n",
       "      <td>8</td>\n",
       "      <td>43.00</td>\n",
       "      <td>7.17</td>\n",
       "    </tr>\n",
       "    <tr>\n",
       "      <th>8</th>\n",
       "      <td>9</td>\n",
       "      <td>51.60</td>\n",
       "      <td>8.60</td>\n",
       "    </tr>\n",
       "    <tr>\n",
       "      <th>9</th>\n",
       "      <td>10</td>\n",
       "      <td>61.92</td>\n",
       "      <td>10.32</td>\n",
       "    </tr>\n",
       "    <tr>\n",
       "      <th>10</th>\n",
       "      <td>11</td>\n",
       "      <td>74.30</td>\n",
       "      <td>12.38</td>\n",
       "    </tr>\n",
       "    <tr>\n",
       "      <th>11</th>\n",
       "      <td>12</td>\n",
       "      <td>89.16</td>\n",
       "      <td>14.86</td>\n",
       "    </tr>\n",
       "    <tr>\n",
       "      <th>12</th>\n",
       "      <td>13</td>\n",
       "      <td>106.99</td>\n",
       "      <td>17.83</td>\n",
       "    </tr>\n",
       "    <tr>\n",
       "      <th>13</th>\n",
       "      <td>14</td>\n",
       "      <td>128.39</td>\n",
       "      <td>21.40</td>\n",
       "    </tr>\n",
       "    <tr>\n",
       "      <th>14</th>\n",
       "      <td>15</td>\n",
       "      <td>154.07</td>\n",
       "      <td>25.68</td>\n",
       "    </tr>\n",
       "    <tr>\n",
       "      <th>15</th>\n",
       "      <td>16</td>\n",
       "      <td>184.88</td>\n",
       "      <td>30.81</td>\n",
       "    </tr>\n",
       "    <tr>\n",
       "      <th>16</th>\n",
       "      <td>17</td>\n",
       "      <td>221.86</td>\n",
       "      <td>36.98</td>\n",
       "    </tr>\n",
       "    <tr>\n",
       "      <th>17</th>\n",
       "      <td>18</td>\n",
       "      <td>266.23</td>\n",
       "      <td>44.37</td>\n",
       "    </tr>\n",
       "    <tr>\n",
       "      <th>18</th>\n",
       "      <td>19</td>\n",
       "      <td>319.48</td>\n",
       "      <td>53.25</td>\n",
       "    </tr>\n",
       "    <tr>\n",
       "      <th>19</th>\n",
       "      <td>20</td>\n",
       "      <td>383.38</td>\n",
       "      <td>63.90</td>\n",
       "    </tr>\n",
       "    <tr>\n",
       "      <th>20</th>\n",
       "      <td>21</td>\n",
       "      <td>460.05</td>\n",
       "      <td>76.68</td>\n",
       "    </tr>\n",
       "    <tr>\n",
       "      <th>21</th>\n",
       "      <td>22</td>\n",
       "      <td>552.06</td>\n",
       "      <td>92.01</td>\n",
       "    </tr>\n",
       "    <tr>\n",
       "      <th>22</th>\n",
       "      <td>23</td>\n",
       "      <td>662.47</td>\n",
       "      <td>110.41</td>\n",
       "    </tr>\n",
       "    <tr>\n",
       "      <th>23</th>\n",
       "      <td>24</td>\n",
       "      <td>794.97</td>\n",
       "      <td>132.49</td>\n",
       "    </tr>\n",
       "    <tr>\n",
       "      <th>24</th>\n",
       "      <td>25</td>\n",
       "      <td>953.96</td>\n",
       "      <td>158.99</td>\n",
       "    </tr>\n",
       "    <tr>\n",
       "      <th>25</th>\n",
       "      <td>26</td>\n",
       "      <td>1144.75</td>\n",
       "      <td>190.79</td>\n",
       "    </tr>\n",
       "    <tr>\n",
       "      <th>26</th>\n",
       "      <td>27</td>\n",
       "      <td>1373.71</td>\n",
       "      <td>228.95</td>\n",
       "    </tr>\n",
       "    <tr>\n",
       "      <th>27</th>\n",
       "      <td>28</td>\n",
       "      <td>1648.45</td>\n",
       "      <td>274.74</td>\n",
       "    </tr>\n",
       "    <tr>\n",
       "      <th>28</th>\n",
       "      <td>29</td>\n",
       "      <td>1978.14</td>\n",
       "      <td>329.69</td>\n",
       "    </tr>\n",
       "    <tr>\n",
       "      <th>29</th>\n",
       "      <td>30</td>\n",
       "      <td>2373.76</td>\n",
       "      <td>395.63</td>\n",
       "    </tr>\n",
       "  </tbody>\n",
       "</table>\n",
       "</div>"
      ]
     },
     "execution_count": 86,
     "metadata": {},
     "output_type": "execute_result"
    }
   ],
   "execution_count": 86
  },
  {
   "metadata": {},
   "cell_type": "markdown",
   "source": "Delta here can be interpreted as a per-period goal.",
   "id": "e2926aca7149cec"
  },
  {
   "metadata": {
    "ExecuteTime": {
     "end_time": "2025-08-03T08:01:26.042737Z",
     "start_time": "2025-08-03T08:01:26.040552Z"
    }
   },
   "cell_type": "code",
   "source": [
    "ultimate_gain = round(ultimate_gain, 2)\n",
    "ultimate_growth = round(ultimate_gain /starting_capital * 100, 2)\n",
    "print(f\"Ultimate Gain Target: {ultimate_gain} currency -> {ultimate_growth} %\")"
   ],
   "id": "2e3a7d44d5c8c65e",
   "outputs": [
    {
     "name": "stdout",
     "output_type": "stream",
     "text": [
      "Ultimate Gain Target: 2373.76 currency -> 23737.6 %\n"
     ]
    }
   ],
   "execution_count": 87
  },
  {
   "metadata": {},
   "cell_type": "markdown",
   "source": "## Risk parameters",
   "id": "20dd9a63bc4b164f"
  },
  {
   "metadata": {
    "ExecuteTime": {
     "end_time": "2025-08-03T08:01:26.125893Z",
     "start_time": "2025-08-03T08:01:26.123658Z"
    }
   },
   "cell_type": "code",
   "source": [
    "rr = 4 ## Risk Reward\n",
    "max_margin_account_rate = 10 # max % of account put into a position at any given time\n",
    "max_account_rate_at_risk = 1 # max % of account losable per trade\n",
    "print(f\"Risk/Reward: 1:{rr}\")\n",
    "print(f\"Max Margin per Trade: {max_margin_account_rate} % of account\")\n",
    "print(f\"Max Losable: {max_account_rate_at_risk}% of account\")\n",
    "print(\"\")\n",
    "\n"
   ],
   "id": "1b74ca5d9e42d0c7",
   "outputs": [
    {
     "name": "stdout",
     "output_type": "stream",
     "text": [
      "Risk/Reward: 1:4\n",
      "Max Margin per Trade: 10 % of account\n",
      "Max Losable: 1% of account\n",
      "\n"
     ]
    }
   ],
   "execution_count": 88
  },
  {
   "metadata": {},
   "cell_type": "markdown",
   "source": "## Position Parameters",
   "id": "7640b39f101726b4"
  },
  {
   "metadata": {
    "ExecuteTime": {
     "end_time": "2025-08-03T08:01:26.156396Z",
     "start_time": "2025-08-03T08:01:26.154080Z"
    }
   },
   "cell_type": "code",
   "source": [
    "leverage = 300 # in multiples (x)\n",
    "position_value = 30 # in currency\n",
    "margin = round(position_value / leverage, 6)\n",
    "margin_v_account = round(margin / starting_capital * 100, 6)\n",
    "print(f\"leverage: {leverage}x\")\n",
    "print(f\"Position Value: {position_value} currency\")\n",
    "margin_grade = \"✅\" if margin_v_account <= max_margin_account_rate else \"❌\"\n",
    "print(f\"Margin: {margin} currency -> {margin_v_account}% of Account {margin_grade}\")\n",
    "print(\"\")\n"
   ],
   "id": "da43d6c7a0b1c7c4",
   "outputs": [
    {
     "name": "stdout",
     "output_type": "stream",
     "text": [
      "leverage: 300x\n",
      "Position Value: 30 currency\n",
      "Margin: 0.1 currency -> 1.0% of Account ✅\n",
      "\n"
     ]
    }
   ],
   "execution_count": 89
  },
  {
   "metadata": {},
   "cell_type": "markdown",
   "source": "## [Long] Position Planning",
   "id": "6b031b014c5beabe"
  },
  {
   "metadata": {
    "ExecuteTime": {
     "end_time": "2025-08-03T08:01:26.184846Z",
     "start_time": "2025-08-03T08:01:26.180621Z"
    }
   },
   "cell_type": "code",
   "source": [
    "long_entry = 162 # in currency\n",
    "long_exit = 174 # in currency\n",
    "long_sl = 159 # in currency\n",
    "long_position_size = round(position_value / long_entry, 6) # number of asset in the trade\n",
    "\n",
    "long_win_pa_percentage = (long_exit - long_entry) / long_entry * 100\n",
    "long_loss_pa_percentage = (long_sl - long_entry) / long_entry * 100\n",
    "long_at_risk = position_value * long_loss_pa_percentage/100\n",
    "long_to_win = position_value * long_win_pa_percentage/100\n",
    "\n",
    "long_rr = round(abs(long_to_win/long_at_risk), 2)\n",
    "\n",
    "long_at_risk_v_account = round(abs(long_at_risk/starting_capital) *100, 6)\n",
    "long_to_win_v_account = round(long_to_win/starting_capital *100, 6)\n",
    "\n",
    "print(f\"Entry: {long_entry}\")\n",
    "print(f\"Exit: {long_exit} -> +{round(long_win_pa_percentage,3)}% PA\")\n",
    "print(f\"SL: {long_sl} -> {round(long_loss_pa_percentage,3)}% PA\")\n",
    "long_rr_grade_pass = True if long_rr >= rr else False\n",
    "long_rr_grade = \"✅\" if long_rr_grade_pass else \"❌\"\n",
    "print(f\"RR: {long_rr} {long_rr_grade}\")\n",
    "if long_rr_grade_pass is False:\n",
    "    print(f\"⚠️RR goals (1:{rr}) is not met, here are suggestions\")\n",
    "    long_new_exit = (long_entry - long_sl) * rr + long_entry\n",
    "    print(f\"1/ Adjust your TP to {long_new_exit} (from {long_exit}) -> {long_new_exit - long_exit} delta\")\n",
    "    long_new_sl = long_entry - (long_entry - long_entry) / (rr-1)\n",
    "    print(f\"2/ Adjust your SL to {long_new_sl} (from {long_sl}) -> {long_new_sl - long_sl} delta\")\n",
    "print(\"\")\n",
    "\n",
    "print(\"---\")\n",
    "print(f\"Capital in position: {margin} currency\")\n",
    "print(f\"Position size: {long_position_size} assets\")\n",
    "long_at_risk_grade_pass = True if long_at_risk_v_account <= max_account_rate_at_risk else False\n",
    "long_at_risk_grade = \"✅\" if long_at_risk_grade_pass else \"❌\"\n",
    "print(f\"To win: {round(long_to_win, 3)} currency -> {long_to_win_v_account}% of account\")\n",
    "print(f\"At risk: {round(long_at_risk, 3)} currency -> {long_at_risk_v_account}% of account {long_at_risk_grade}\")\n",
    "if long_at_risk_grade_pass is False:\n",
    "    print(f\"⚠️Capital at risk goals ({max_account_rate_at_risk}%) is not met, here are suggestions\")\n",
    "\n",
    "    # new_position_value = (starting_capital * max_account_rate_at_risk / 100) * leverage\n",
    "    new_position_value = (max_account_rate_at_risk / 100 * starting_capital) / abs(long_loss_pa_percentage/100)\n",
    "    print(f\"1/ Adjust your position size to {round(new_position_value, 2)} from {position_value} -> {new_position_value - position_value} delta\")\n",
    "\n"
   ],
   "id": "804ea937e3dc818",
   "outputs": [
    {
     "name": "stdout",
     "output_type": "stream",
     "text": [
      "Entry: 162\n",
      "Exit: 174 -> +7.407% PA\n",
      "SL: 159 -> -1.852% PA\n",
      "RR: 4.0 ✅\n",
      "\n",
      "---\n",
      "Capital in position: 0.1 currency\n",
      "Position size: 0.185185 assets\n",
      "To win: 2.222 currency -> 22.222222% of account\n",
      "At risk: -0.556 currency -> 5.555556% of account ❌\n",
      "⚠️Capital at risk goals (1%) is not met, here are suggestions\n",
      "1/ Adjust your position size to 5.4 from 30 -> -24.6 delta\n"
     ]
    }
   ],
   "execution_count": 90
  },
  {
   "metadata": {},
   "cell_type": "markdown",
   "source": "## [Short] Position Planning",
   "id": "d39bd4edd66abff3"
  },
  {
   "metadata": {
    "ExecuteTime": {
     "end_time": "2025-08-03T08:01:26.216820Z",
     "start_time": "2025-08-03T08:01:26.215115Z"
    }
   },
   "cell_type": "code",
   "source": [
    "short_entry = 100 # in currency\n",
    "short_exit = 70 # in currency\n",
    "short_sl = 110 # in currency"
   ],
   "id": "160bb1c7d5cd4791",
   "outputs": [],
   "execution_count": 91
  },
  {
   "metadata": {},
   "cell_type": "markdown",
   "source": "Coming soon...",
   "id": "6b60ed291054d931"
  }
 ],
 "metadata": {
  "kernelspec": {
   "display_name": "Python 3",
   "language": "python",
   "name": "python3"
  },
  "language_info": {
   "codemirror_mode": {
    "name": "ipython",
    "version": 2
   },
   "file_extension": ".py",
   "mimetype": "text/x-python",
   "name": "python",
   "nbconvert_exporter": "python",
   "pygments_lexer": "ipython2",
   "version": "2.7.6"
  }
 },
 "nbformat": 4,
 "nbformat_minor": 5
}
